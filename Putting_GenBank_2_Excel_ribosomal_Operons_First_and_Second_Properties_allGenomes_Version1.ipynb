{
 "cells": [
  {
   "cell_type": "code",
   "execution_count": 1,
   "metadata": {
    "collapsed": true
   },
   "outputs": [],
   "source": [
    "from Bio import SeqIO\n",
    "from Bio.SeqRecord import SeqRecord\n",
    "\n",
    "import os\n",
    "import sys\n",
    "\n",
    "# To write over a excel\n",
    "import openpyxl\n",
    "import xlsxwriter\n",
    "\n",
    "#from Utils import Processing_files_fron_folder, Getting_genbank_files_names\n",
    "import itertools\n",
    "from Utils import *\n",
    "\n",
    "from Bio import GenBank\n",
    "import re\n",
    "\n",
    "from itertools import izip, cycle, tee"
   ]
  },
  {
   "cell_type": "code",
   "execution_count": 2,
   "metadata": {
    "collapsed": true
   },
   "outputs": [],
   "source": [
    "# Importando modules\n",
    "from Bio.SeqIO.FastaIO import FastaIterator\n",
    "\n",
    "from Bio.Blast import NCBIXML\n",
    "from Bio.Blast.Applications import NcbiblastnCommandline\n",
    "\n",
    "import math\n",
    "import numpy as np"
   ]
  },
  {
   "cell_type": "code",
   "execution_count": 3,
   "metadata": {
    "collapsed": false
   },
   "outputs": [],
   "source": [
    "# Chaging directories\n",
    "\n",
    "pathGenoTest= \"/Users/CamilaMV/Desktop/TESIS/GENOMES_TEST/\"\n",
    "\n",
    "files = Processing_files_from_folder(pathGenoTest,6)\n",
    "\n",
    "gb_list, names = Getting_genbank_files_names(files)\n",
    "\n",
    "#gb_list"
   ]
  },
  {
   "cell_type": "code",
   "execution_count": 4,
   "metadata": {
    "collapsed": false
   },
   "outputs": [
    {
     "data": {
      "text/plain": [
       "[]"
      ]
     },
     "execution_count": 4,
     "metadata": {},
     "output_type": "execute_result"
    }
   ],
   "source": [
    "gb_generator_list = []\n",
    "\n",
    "for gb in gb_list:\n",
    "    \n",
    "    gene_temp = Parsing_genbank_with_SeqIO(pathGenoTest + gb)\n",
    "    \n",
    "    gb_generator_list.append(gene_temp)\n",
    "\n",
    "gb_generator_list"
   ]
  },
  {
   "cell_type": "code",
   "execution_count": null,
   "metadata": {
    "collapsed": true
   },
   "outputs": [],
   "source": [
    "type(gb)"
   ]
  },
  {
   "cell_type": "markdown",
   "metadata": {},
   "source": [
    "## Getting dict_initial"
   ]
  },
  {
   "cell_type": "code",
   "execution_count": 5,
   "metadata": {
    "collapsed": true
   },
   "outputs": [],
   "source": [
    "dict_initial = making_dict_by_geno(gb_generator_list)"
   ]
  },
  {
   "cell_type": "code",
   "execution_count": 6,
   "metadata": {
    "collapsed": false
   },
   "outputs": [
    {
     "data": {
      "text/plain": [
       "['U00096', 'CP000036']"
      ]
     },
     "execution_count": 6,
     "metadata": {},
     "output_type": "execute_result"
    }
   ],
   "source": [
    "dict_initial.keys()"
   ]
  },
  {
   "cell_type": "code",
   "execution_count": 7,
   "metadata": {
    "collapsed": true
   },
   "outputs": [],
   "source": [
    "#dict_initial"
   ]
  },
  {
   "cell_type": "code",
   "execution_count": 8,
   "metadata": {
    "collapsed": false
   },
   "outputs": [],
   "source": [
    "#dict_initial\n",
    "\n",
    "# Getting unique GenomesNames for other function\n",
    "\n",
    "uniqueGenoNames = dict_initial.keys()"
   ]
  },
  {
   "cell_type": "markdown",
   "metadata": {},
   "source": [
    "# Parte de Blast para saber donde data mapea y asi sacar posiciones"
   ]
  },
  {
   "cell_type": "code",
   "execution_count": 9,
   "metadata": {
    "collapsed": false
   },
   "outputs": [
    {
     "data": {
      "text/plain": [
       "['.DS_Store',\n",
       " 'Escherichia_coli.gb',\n",
       " 'Escherichia_coli.operon',\n",
       " 'NC_010658.fna',\n",
       " 'NC_017626.fna',\n",
       " 'riboOperons.xlsx',\n",
       " 'Shigella_boydii_Sb227.gb',\n",
       " 'Shigella_boydii_Sb227.operon']"
      ]
     },
     "execution_count": 9,
     "metadata": {},
     "output_type": "execute_result"
    }
   ],
   "source": [
    "# Chaging directories\n",
    "\n",
    "pathGenoTest= \"/Users/CamilaMV/Desktop/TESIS/GENOMES_TEST/\"\n",
    "\n",
    "files = Processing_files_from_folder(pathGenoTest,6)\n",
    "\n",
    "files\n"
   ]
  },
  {
   "cell_type": "code",
   "execution_count": 10,
   "metadata": {
    "collapsed": true
   },
   "outputs": [],
   "source": [
    "operon_list, names = Getting_files_path_by_extension(files,\".operon\")\n",
    "\n",
    "fasta_files, names_fasta = Getting_files_path_by_extension(files,\".fna\")\n",
    "\n"
   ]
  },
  {
   "cell_type": "markdown",
   "metadata": {},
   "source": [
    "## Doing blast para saber posiciones en genomas como subject"
   ]
  },
  {
   "cell_type": "code",
   "execution_count": 11,
   "metadata": {
    "collapsed": false
   },
   "outputs": [],
   "source": [
    "dict_from_blast_results = getting_blastn_cline2_rRNA_vs_geno_getting_positions(pathGenoTest,operon_list,fasta_files,uniqueGenoNames)"
   ]
  },
  {
   "cell_type": "code",
   "execution_count": 12,
   "metadata": {
    "collapsed": false
   },
   "outputs": [
    {
     "data": {
      "text/plain": [
       "['U00096', 'CP000036']"
      ]
     },
     "execution_count": 12,
     "metadata": {},
     "output_type": "execute_result"
    }
   ],
   "source": [
    "dict_from_blast_results.keys()"
   ]
  },
  {
   "cell_type": "code",
   "execution_count": 13,
   "metadata": {
    "collapsed": false
   },
   "outputs": [],
   "source": [
    "#dict_from_blast_results"
   ]
  },
  {
   "cell_type": "markdown",
   "metadata": {},
   "source": [
    "# Using the other options, from map1 to map4 "
   ]
  },
  {
   "cell_type": "code",
   "execution_count": 14,
   "metadata": {
    "collapsed": false
   },
   "outputs": [],
   "source": [
    "dictMap1 = using_making_map1_on_dict(dict_from_blast_results)"
   ]
  },
  {
   "cell_type": "code",
   "execution_count": 15,
   "metadata": {
    "collapsed": false
   },
   "outputs": [
    {
     "data": {
      "text/plain": [
       "['U00096', 'CP000036']"
      ]
     },
     "execution_count": 15,
     "metadata": {},
     "output_type": "execute_result"
    }
   ],
   "source": [
    "dictMap1.keys()"
   ]
  },
  {
   "cell_type": "code",
   "execution_count": 16,
   "metadata": {
    "collapsed": false
   },
   "outputs": [],
   "source": [
    "#dictMap1"
   ]
  },
  {
   "cell_type": "code",
   "execution_count": 17,
   "metadata": {
    "collapsed": true
   },
   "outputs": [],
   "source": [
    "dictMap2 = using_making_map2_on_dict(dictMap1)"
   ]
  },
  {
   "cell_type": "code",
   "execution_count": 18,
   "metadata": {
    "collapsed": false
   },
   "outputs": [
    {
     "data": {
      "text/plain": [
       "['U00096', 'CP000036']"
      ]
     },
     "execution_count": 18,
     "metadata": {},
     "output_type": "execute_result"
    }
   ],
   "source": [
    "dictMap2.keys()"
   ]
  },
  {
   "cell_type": "code",
   "execution_count": 19,
   "metadata": {
    "collapsed": false
   },
   "outputs": [],
   "source": [
    "#dictMap2"
   ]
  },
  {
   "cell_type": "code",
   "execution_count": 20,
   "metadata": {
    "collapsed": false
   },
   "outputs": [],
   "source": [
    "dictMap3 = using_less_o_magnitude_2_dict(dictMap2)"
   ]
  },
  {
   "cell_type": "code",
   "execution_count": 21,
   "metadata": {
    "collapsed": false
   },
   "outputs": [
    {
     "data": {
      "text/plain": [
       "['U00096', 'CP000036']"
      ]
     },
     "execution_count": 21,
     "metadata": {},
     "output_type": "execute_result"
    }
   ],
   "source": [
    "dictMap3.keys()"
   ]
  },
  {
   "cell_type": "code",
   "execution_count": 22,
   "metadata": {
    "collapsed": false
   },
   "outputs": [],
   "source": [
    "#dictMap3"
   ]
  },
  {
   "cell_type": "code",
   "execution_count": 23,
   "metadata": {
    "collapsed": false
   },
   "outputs": [],
   "source": [
    "dictMap4 = using_making_list_correct_posi_2_dict(dictMap3)"
   ]
  },
  {
   "cell_type": "code",
   "execution_count": 24,
   "metadata": {
    "collapsed": false
   },
   "outputs": [
    {
     "data": {
      "text/plain": [
       "['U00096', 'CP000036']"
      ]
     },
     "execution_count": 24,
     "metadata": {},
     "output_type": "execute_result"
    }
   ],
   "source": [
    "dictMap4.keys()"
   ]
  },
  {
   "cell_type": "markdown",
   "metadata": {},
   "source": [
    "# Putting data in different excels with pandas"
   ]
  },
  {
   "cell_type": "markdown",
   "metadata": {},
   "source": [
    "## Making a list of dataframe for each geno"
   ]
  },
  {
   "cell_type": "code",
   "execution_count": 25,
   "metadata": {
    "collapsed": false
   },
   "outputs": [],
   "source": [
    "# importing pandas\n",
    "#import pandas as pd\n",
    "#from pandas import DataFrame"
   ]
  },
  {
   "cell_type": "code",
   "execution_count": 26,
   "metadata": {
    "collapsed": false
   },
   "outputs": [
    {
     "name": "stdout",
     "output_type": "stream",
     "text": [
      "It was possible to add aditional columns: OperonNames and NumberSubunits for U00096\n",
      "It was possible to add aditional columns: OperonNames and NumberSubunits for CP000036\n"
     ]
    }
   ],
   "source": [
    "dict_test_list_dfs = dict_list_of_dfs_all_genos(dict_initial,dictMap4)"
   ]
  },
  {
   "cell_type": "markdown",
   "metadata": {},
   "source": [
    "# Other functions"
   ]
  },
  {
   "cell_type": "code",
   "execution_count": 27,
   "metadata": {
    "collapsed": true
   },
   "outputs": [],
   "source": [
    "## Function 0.0\n",
    "def unique_list_function(list_sample):\n",
    "    \n",
    "    unique_list = [e for i, e in enumerate(list_sample) if list_sample.index(e) == i]\n",
    "    \n",
    "    return unique_list\n"
   ]
  },
  {
   "cell_type": "code",
   "execution_count": 28,
   "metadata": {
    "collapsed": true
   },
   "outputs": [],
   "source": [
    "## Function 0\n",
    "def getting_count_each_operon_2_list(operonNamesTemp):\n",
    "    \n",
    "    uniqueNamesList = unique_list_function(operonNamesTemp)\n",
    "\n",
    "    operon_count_dict = {rna:operonNamesTemp.count(rna) for rna in operonNamesTemp}\n",
    "    operon_count_names = operon_count_dict.keys()\n",
    "    operon_count_values = operon_count_dict.values()\n",
    "    \n",
    "    countOrderedAsUnique = getting_operon_count_in_gb_order(uniqueNamesList,operon_count_names,operon_count_values)\n",
    "\n",
    "    return uniqueNamesList, countOrderedAsUnique"
   ]
  },
  {
   "cell_type": "code",
   "execution_count": 29,
   "metadata": {
    "collapsed": true
   },
   "outputs": [],
   "source": [
    "#dict_test_list_dfs\n",
    "\n",
    "#dict_test_list_dfs"
   ]
  },
  {
   "cell_type": "code",
   "execution_count": 91,
   "metadata": {
    "collapsed": false
   },
   "outputs": [],
   "source": [
    "#dict_test_list_dfs"
   ]
  },
  {
   "cell_type": "markdown",
   "metadata": {},
   "source": [
    "# Puting data in excel with pandas"
   ]
  },
  {
   "cell_type": "code",
   "execution_count": 30,
   "metadata": {
    "collapsed": true
   },
   "outputs": [],
   "source": [
    "all_dfs_test = complete_list_dfs(dict_test_list_dfs)"
   ]
  },
  {
   "cell_type": "markdown",
   "metadata": {},
   "source": [
    "# Putting all dfs in a single xlsx"
   ]
  },
  {
   "cell_type": "code",
   "execution_count": 31,
   "metadata": {
    "collapsed": false
   },
   "outputs": [
    {
     "data": {
      "text/plain": [
       "'/Users/CamilaMV/Desktop/TESIS/Python_Notebooks'"
      ]
     },
     "execution_count": 31,
     "metadata": {},
     "output_type": "execute_result"
    }
   ],
   "source": [
    "os.getcwd()\n",
    "\n",
    "# run function\n",
    "#multiple_dfs(all_dfs_test, 'Validation', 'DataAfterDoingAll_FunctionsTest4.xlsx', 1)\n"
   ]
  },
  {
   "cell_type": "markdown",
   "metadata": {},
   "source": [
    "# Getting pixel number for each operon from Excel file"
   ]
  },
  {
   "cell_type": "code",
   "execution_count": 32,
   "metadata": {
    "collapsed": false
   },
   "outputs": [],
   "source": [
    "path = \"/Users/CamilaMV/Desktop/TESIS_2016_1/FragmentacionConOverlapping/\"\n",
    "\n",
    "#pathTest = \"/Users/CamilaMV/Desktop/Test1/\""
   ]
  },
  {
   "cell_type": "code",
   "execution_count": 33,
   "metadata": {
    "collapsed": false
   },
   "outputs": [
    {
     "name": "stdout",
     "output_type": "stream",
     "text": [
      "All folder paths were obtained\n"
     ]
    }
   ],
   "source": [
    "folderPaths = Processing_folder_paths(path)\n",
    "\n",
    "#folderPaths"
   ]
  },
  {
   "cell_type": "code",
   "execution_count": 34,
   "metadata": {
    "collapsed": false
   },
   "outputs": [],
   "source": [
    "#folderPathsTest = Processing_folder_paths(pathTest)"
   ]
  },
  {
   "cell_type": "code",
   "execution_count": 35,
   "metadata": {
    "collapsed": false
   },
   "outputs": [
    {
     "name": "stdout",
     "output_type": "stream",
     "text": [
      "[2000, 2500, 3000, 3500, 4000, 4500, 5000, 5500, 6000, 6500, 7000, 7500, 8000]\n",
      "[4000, 5000, 6000, 7000, 8000, 9000, 10000, 11000, 12000, 13000, 14000, 15000, 16000]\n"
     ]
    }
   ],
   "source": [
    "moves_list , cut_list = getting_moves_list_from_foldersPaths(folderPaths)\n",
    "\n",
    "print moves_list\n",
    "\n",
    "print cut_list"
   ]
  },
  {
   "cell_type": "code",
   "execution_count": 36,
   "metadata": {
    "collapsed": true
   },
   "outputs": [],
   "source": [
    "# Este todavia no VA A Utils.py=> porque se le podrian hacer otras operaciones\n",
    "\n",
    "def doing_operations_for_single_move(moves_list, startPositions, endPositions):\n",
    "    \n",
    "    dict_operations_for_single_move = {}\n",
    "    \n",
    "    for move in moves_list:\n",
    "        \n",
    "        moveTemp = move\n",
    "        #print moveTemp\n",
    "        \n",
    "        listTempFrag_gbFile_start = []\n",
    "        listTempFrag_gbFile_end = []\n",
    "        listTemp_desv_start = []\n",
    "        listTemp_desv_end = []\n",
    "        \n",
    "        for valueStart, valueEnd in itertools.izip(startPositions,endPositions):\n",
    "            \n",
    "            startTemp = int(valueStart)\n",
    "            endTemp = int(valueEnd)\n",
    "\n",
    "            fragment_in_gbFile_start = int(float(startTemp / moveTemp))\n",
    "            fragment_in_gbFile_end = int(float(endTemp / moveTemp))\n",
    "\n",
    "            # desviation to left according to start and end in gbFile\n",
    "            desv_start = ( startTemp - (fragment_in_gbFile_start * moveTemp) )\n",
    "            desv_end = ( endTemp - (fragment_in_gbFile_end * moveTemp) )\n",
    "\n",
    "            listTempFrag_gbFile_start.append(fragment_in_gbFile_start)\n",
    "            listTempFrag_gbFile_end.append(fragment_in_gbFile_end)\n",
    "            listTemp_desv_start.append(desv_start)\n",
    "            listTemp_desv_end.append(desv_end)\n",
    "        \n",
    "        dict_operations_for_single_move[moveTemp] = (listTempFrag_gbFile_start, listTempFrag_gbFile_end,\n",
    "                                                          listTemp_desv_start, listTemp_desv_end)\n",
    "        \n",
    "        \n",
    "    return dict_operations_for_single_move"
   ]
  },
  {
   "cell_type": "code",
   "execution_count": 37,
   "metadata": {
    "collapsed": false
   },
   "outputs": [],
   "source": [
    "#dict_operations_for_single_move = doing_operations_for_single_move(moves_list, startPositions, endPositions)"
   ]
  },
  {
   "cell_type": "code",
   "execution_count": 38,
   "metadata": {
    "collapsed": false
   },
   "outputs": [],
   "source": [
    "#dict_operations_for_single_move.keys()\n",
    "\n",
    "#dict_operations_for_single_move"
   ]
  },
  {
   "cell_type": "markdown",
   "metadata": {},
   "source": [
    "# Doing getting positions from gb with dict"
   ]
  },
  {
   "cell_type": "code",
   "execution_count": 39,
   "metadata": {
    "collapsed": false
   },
   "outputs": [],
   "source": [
    "# Este todavia no VA A Utils.py => porque se le podrian hacer otras operaciones\n",
    "\n",
    "def getting_positions_from_gb_file(dict_inital, moves_list):\n",
    "    \n",
    "    dict_positions_for_each_geno = {}\n",
    "    \n",
    "    for key in dict_inital:\n",
    "        \n",
    "        #print key\n",
    "        \n",
    "        startPositions = dict_inital[key][1]\n",
    "        #print startPositions\n",
    "        \n",
    "        endPositions = dict_inital[key][2]\n",
    "        #print endPositions\n",
    "\n",
    "        dictOperationsTemp = doing_operations_for_single_move(moves_list,startPositions,endPositions)\n",
    "        dict_positions_for_each_geno[key] = dictOperationsTemp\n",
    "        #print \"\\n\"\n",
    "    \n",
    "    mssg1 = \"The keys of dict_positions_for_each_geno (Bigger Dict) are: \" + ' '.join(dict_positions_for_each_geno.keys())\n",
    "    mssg2 = \"The keys of the Smaller Dict are: \" + ''.join(str(moves_list))\n",
    "    \n",
    "    print mssg1\n",
    "    print mssg2\n",
    "    \n",
    "    return dict_positions_for_each_geno"
   ]
  },
  {
   "cell_type": "code",
   "execution_count": 40,
   "metadata": {
    "collapsed": false
   },
   "outputs": [
    {
     "name": "stdout",
     "output_type": "stream",
     "text": [
      "The keys of dict_positions_for_each_geno (Bigger Dict) are: U00096 CP000036\n",
      "The keys of the Smaller Dict are: [2000, 2500, 3000, 3500, 4000, 4500, 5000, 5500, 6000, 6500, 7000, 7500, 8000]\n"
     ]
    }
   ],
   "source": [
    "dict_positions_for_each_geno = getting_positions_from_gb_file(dict_initial, moves_list)"
   ]
  },
  {
   "cell_type": "code",
   "execution_count": 41,
   "metadata": {
    "collapsed": true
   },
   "outputs": [],
   "source": [
    "#dict_positions_for_each_geno"
   ]
  },
  {
   "cell_type": "markdown",
   "metadata": {
    "collapsed": true
   },
   "source": [
    "# Putting results of fragmentation and overlaping in excel"
   ]
  },
  {
   "cell_type": "code",
   "execution_count": 42,
   "metadata": {
    "collapsed": false
   },
   "outputs": [],
   "source": [
    "#and all(x in orden_standard for x in ordenTempList) )"
   ]
  },
  {
   "cell_type": "code",
   "execution_count": 43,
   "metadata": {
    "collapsed": false
   },
   "outputs": [
    {
     "data": {
      "text/plain": [
       "['U00096', 'CP000036']"
      ]
     },
     "execution_count": 43,
     "metadata": {},
     "output_type": "execute_result"
    }
   ],
   "source": [
    "dict_initial.keys()\n",
    "\n",
    "# the disposition of the rRNA are 16S -- 23S -- 5S "
   ]
  },
  {
   "cell_type": "code",
   "execution_count": 44,
   "metadata": {
    "collapsed": false
   },
   "outputs": [
    {
     "name": "stdout",
     "output_type": "stream",
     "text": [
      "[ExactPosition(209746), ExactPosition(211734), ExactPosition(214732), ExactPosition(2625749), ExactPosition(2625962), ExactPosition(2629312), ExactPosition(3271695), ExactPosition(3271940), ExactPosition(3272153), ExactPosition(3275503), ExactPosition(3790014), ExactPosition(3791910), ExactPosition(3794908), ExactPosition(3888804), ExactPosition(3890792), ExactPosition(3893790), ExactPosition(4025239), ExactPosition(4027227), ExactPosition(4030225), ExactPosition(4066549), ExactPosition(4068445), ExactPosition(4071443)]\n"
     ]
    }
   ],
   "source": [
    "print dict_initial['CP000036'][1]\n",
    "\n",
    "#print dict_initial['U00096'][0]"
   ]
  },
  {
   "cell_type": "code",
   "execution_count": 45,
   "metadata": {
    "collapsed": true
   },
   "outputs": [],
   "source": [
    "#startData = dict_initial['CP000036'][1]\n",
    "#endData = dict_initial['CP000036'][2]"
   ]
  },
  {
   "cell_type": "code",
   "execution_count": 46,
   "metadata": {
    "collapsed": false
   },
   "outputs": [
    {
     "data": {
      "text/plain": [
       "'\\nfor d0,d1,d2,d3,d4 in itertools.izip(data_operon_ids,data1, data2, data3, data4):\\n    \\n    operonNameTemp = d0.split(\" \")[0]\\n    \\n    print operonNameTemp,d1, d2, d3, d4\\n'"
      ]
     },
     "execution_count": 46,
     "metadata": {},
     "output_type": "execute_result"
    }
   ],
   "source": [
    "\"\"\"\n",
    "for d0,d1,d2,d3,d4 in itertools.izip(data_operon_ids,data1, data2, data3, data4):\n",
    "    \n",
    "    operonNameTemp = d0.split(\" \")[0]\n",
    "    \n",
    "    print operonNameTemp,d1, d2, d3, d4\n",
    "\"\"\""
   ]
  },
  {
   "cell_type": "markdown",
   "metadata": {
    "collapsed": true
   },
   "source": [
    "# Doing function 1 to get the Frag definitive according to data"
   ]
  },
  {
   "cell_type": "code",
   "execution_count": 47,
   "metadata": {
    "collapsed": false
   },
   "outputs": [],
   "source": [
    "def f1_getting_definitive_operonaNames_Frag(data1,data2,data3,data4):\n",
    "\n",
    "    finalPosiDefinitive = []\n",
    "\n",
    "    for d1,d2,d3,d4 in itertools.izip(data1, data2, data3, data4):\n",
    "\n",
    "        posiStart = d1\n",
    "        posiEnd = d2\n",
    "\n",
    "        desvStart = d3\n",
    "        desVEnd = d4\n",
    "\n",
    "        posiDefinitive = 0\n",
    "\n",
    "        mssg = \"\"\n",
    "\n",
    "        if(posiStart != posiEnd):\n",
    "            if(desvStart < desVEnd):\n",
    "                posiDefinitive = posiStart\n",
    "                finalPosiDefinitive.append(posiDefinitive)\n",
    "                mssg = \"Everything Ok\"\n",
    "            else:\n",
    "                posiDefinitive = posiEnd\n",
    "                finalPosiDefinitive.append(posiDefinitive)\n",
    "                mssg = \"Everything Ok\"\n",
    "        elif(posiStart == posiEnd):\n",
    "            posiDefinitive = posiStart\n",
    "            finalPosiDefinitive.append(posiDefinitive)\n",
    "            mssg = \"Everything Ok\"\n",
    "        else:\n",
    "            mssg = \"There was a problem. Definitive frag could not be assigned\"      \n",
    "\n",
    "\n",
    "        #print operonNameTemp, posiDefinitive , mssg\n",
    "    return finalPosiDefinitive"
   ]
  },
  {
   "cell_type": "code",
   "execution_count": 48,
   "metadata": {
    "collapsed": false
   },
   "outputs": [],
   "source": [
    "#finalPosiDefinitive = f1_getting_definitive_operonaNames_Frag(data1,data2,data3,data4)"
   ]
  },
  {
   "cell_type": "code",
   "execution_count": 49,
   "metadata": {
    "collapsed": false
   },
   "outputs": [],
   "source": [
    "#print finalPrefixOperonName\n",
    "\n",
    "#print finalPosiDefinitive"
   ]
  },
  {
   "cell_type": "code",
   "execution_count": 50,
   "metadata": {
    "collapsed": false
   },
   "outputs": [],
   "source": [
    "#for subunit,start,end in itertools.izip(data_operon_ids,startData,endData):\n",
    "#    subunitTemp = subunit.split(\" \")[0]\n",
    "    \n",
    "#    print subunitTemp , start , end\n",
    "    \n",
    "    "
   ]
  },
  {
   "cell_type": "code",
   "execution_count": 51,
   "metadata": {
    "collapsed": true
   },
   "outputs": [],
   "source": [
    "# Sample DATA"
   ]
  },
  {
   "cell_type": "code",
   "execution_count": 52,
   "metadata": {
    "collapsed": false
   },
   "outputs": [],
   "source": [
    "#data_initial = \n",
    "\n",
    "#data_operon_ids = dict_initial['CP000036'][0]"
   ]
  },
  {
   "cell_type": "code",
   "execution_count": 53,
   "metadata": {
    "collapsed": true
   },
   "outputs": [],
   "source": [
    "#dict_initial\n",
    "\n",
    "#data1 = dict_positions_for_each_geno['CP000036'][2000][0]\n",
    "#data2 = dict_positions_for_each_geno['CP000036'][2000][1]\n",
    "#data3 = dict_positions_for_each_geno['CP000036'][2000][2]\n",
    "#data4 = dict_positions_for_each_geno['CP000036'][2000][3]\n"
   ]
  },
  {
   "cell_type": "code",
   "execution_count": 54,
   "metadata": {
    "collapsed": false
   },
   "outputs": [
    {
     "name": "stdout",
     "output_type": "stream",
     "text": [
      "['U00096', 'CP000036']\n",
      "\n",
      "\n",
      "['U00096', 'CP000036']\n"
     ]
    }
   ],
   "source": [
    "print dict_initial.keys()\n",
    "\n",
    "print \"\\n\"\n",
    "\n",
    "print dict_positions_for_each_geno.keys()"
   ]
  },
  {
   "cell_type": "markdown",
   "metadata": {},
   "source": [
    "# Using f1 with several genos"
   ]
  },
  {
   "cell_type": "code",
   "execution_count": 55,
   "metadata": {
    "collapsed": true
   },
   "outputs": [],
   "source": [
    "# entrada a function are the dict and the move number which are any of the following:\n",
    "# [2000, 2500, 3000, 3500, 4000, 4500, 5000, 5500, 6000, 6500, 7000, 7500, 8000]\n",
    "\n",
    "def using_f1_over_all_genos(dict_positions_for_each_geno,move_number):\n",
    "    \n",
    "    dict_using_f1_for_all_genos = {}\n",
    "    \n",
    "    for key2 in dict_positions_for_each_geno:\n",
    "        \n",
    "        # Getting posi info after using key2\n",
    "        mainObject2 = dict_positions_for_each_geno[key2][move_number]\n",
    "        \n",
    "        data1 = mainObject2[0]\n",
    "        data2 = mainObject2[1]\n",
    "        data3 = mainObject2[2]\n",
    "        data4 = mainObject2[3]\n",
    "        \n",
    "        \n",
    "        finalPosiDefinitiveTemp = f1_getting_definitive_operonaNames_Frag(data1,data2,data3,data4)\n",
    "        \n",
    "        dict_using_f1_for_all_genos[key2] = finalPosiDefinitiveTemp\n",
    "        \n",
    "    return dict_using_f1_for_all_genos    "
   ]
  },
  {
   "cell_type": "code",
   "execution_count": 56,
   "metadata": {
    "collapsed": false
   },
   "outputs": [],
   "source": [
    "dict_using_f1_for_all_genos = using_f1_over_all_genos(dict_positions_for_each_geno,2000)"
   ]
  },
  {
   "cell_type": "code",
   "execution_count": 57,
   "metadata": {
    "collapsed": false
   },
   "outputs": [
    {
     "data": {
      "text/plain": [
       "{'CP000036': [105,\n",
       "  107,\n",
       "  107,\n",
       "  1312,\n",
       "  1314,\n",
       "  1315,\n",
       "  1635,\n",
       "  1636,\n",
       "  1636,\n",
       "  1638,\n",
       "  1895,\n",
       "  1897,\n",
       "  1897,\n",
       "  1945,\n",
       "  1945,\n",
       "  1946,\n",
       "  2013,\n",
       "  2015,\n",
       "  2015,\n",
       "  2034,\n",
       "  2034,\n",
       "  2035],\n",
       " 'U00096': [112,\n",
       "  114,\n",
       "  114,\n",
       "  1363,\n",
       "  1363,\n",
       "  1365,\n",
       "  1711,\n",
       "  1711,\n",
       "  1713,\n",
       "  1714,\n",
       "  1971,\n",
       "  1973,\n",
       "  1973,\n",
       "  2018,\n",
       "  2020,\n",
       "  2020,\n",
       "  2084,\n",
       "  2084,\n",
       "  2085,\n",
       "  2104,\n",
       "  2105,\n",
       "  2106]}"
      ]
     },
     "execution_count": 57,
     "metadata": {},
     "output_type": "execute_result"
    }
   ],
   "source": [
    "dict_using_f1_for_all_genos"
   ]
  },
  {
   "cell_type": "markdown",
   "metadata": {},
   "source": [
    "# Getting numbers of operons"
   ]
  },
  {
   "cell_type": "code",
   "execution_count": 58,
   "metadata": {
    "collapsed": false
   },
   "outputs": [
    {
     "data": {
      "text/plain": [
       "'\\n[ExactPosition(209746),\\n ExactPosition(211734),\\n ExactPosition(214732),\\n ExactPosition(2625749),\\n ExactPosition(2625962),\\n ExactPosition(2629312),\\n ExactPosition(3271695),\\n ExactPosition(3271940),\\n ExactPosition(3272153),\\n ExactPosition(3275503),\\n ExactPosition(3790014),\\n ExactPosition(3791910),\\n ExactPosition(3794908),\\n ExactPosition(3888804),\\n ExactPosition(3890792),\\n ExactPosition(3893790),\\n ExactPosition(4025239),\\n ExactPosition(4027227),\\n ExactPosition(4030225),\\n ExactPosition(4066549),\\n ExactPosition(4068445),\\n ExactPosition(4071443)]\\n '"
      ]
     },
     "execution_count": 58,
     "metadata": {},
     "output_type": "execute_result"
    }
   ],
   "source": [
    "\"\"\"\n",
    "[ExactPosition(209746),\n",
    " ExactPosition(211734),\n",
    " ExactPosition(214732),\n",
    " ExactPosition(2625749),\n",
    " ExactPosition(2625962),\n",
    " ExactPosition(2629312),\n",
    " ExactPosition(3271695),\n",
    " ExactPosition(3271940),\n",
    " ExactPosition(3272153),\n",
    " ExactPosition(3275503),\n",
    " ExactPosition(3790014),\n",
    " ExactPosition(3791910),\n",
    " ExactPosition(3794908),\n",
    " ExactPosition(3888804),\n",
    " ExactPosition(3890792),\n",
    " ExactPosition(3893790),\n",
    " ExactPosition(4025239),\n",
    " ExactPosition(4027227),\n",
    " ExactPosition(4030225),\n",
    " ExactPosition(4066549),\n",
    " ExactPosition(4068445),\n",
    " ExactPosition(4071443)]\n",
    " \"\"\""
   ]
  },
  {
   "cell_type": "code",
   "execution_count": 59,
   "metadata": {
    "collapsed": false
   },
   "outputs": [
    {
     "data": {
      "text/plain": [
       "\"\\nstartData = dict_initial['CP000036'][1]\\nendData = dict_initial['CP000036'][2]\\n\\nstartData\\n\\n\""
      ]
     },
     "execution_count": 59,
     "metadata": {},
     "output_type": "execute_result"
    }
   ],
   "source": [
    "\n",
    "\"\"\"\n",
    "startData = dict_initial['CP000036'][1]\n",
    "endData = dict_initial['CP000036'][2]\n",
    "\n",
    "startData\n",
    "\n",
    "\"\"\""
   ]
  },
  {
   "cell_type": "code",
   "execution_count": 60,
   "metadata": {
    "collapsed": false
   },
   "outputs": [],
   "source": [
    "#print len(startData)\n",
    "\n",
    "#startDataNext = startData\n",
    "#del(startDataNext[0])\n",
    "\n",
    "#print startDataNext"
   ]
  },
  {
   "cell_type": "code",
   "execution_count": 61,
   "metadata": {
    "collapsed": false
   },
   "outputs": [],
   "source": [
    "#startDataNext\n",
    "\n",
    "#print \"\\n\"\n",
    "\n",
    "#print len(startDataNext)"
   ]
  },
  {
   "cell_type": "code",
   "execution_count": 62,
   "metadata": {
    "collapsed": false
   },
   "outputs": [],
   "source": [
    "#print data_operon_ids\n",
    "\n",
    "#print startDataNext"
   ]
  },
  {
   "cell_type": "markdown",
   "metadata": {},
   "source": [
    "# Function to get operon list => where there is disposition and definitive frag posi"
   ]
  },
  {
   "cell_type": "code",
   "execution_count": 63,
   "metadata": {
    "collapsed": true
   },
   "outputs": [],
   "source": [
    "def f2_getting_operon_list_with_disposition_and_frags(data_operon_ids,startData,endData,finalPosiDefinitive):\n",
    "    \n",
    "    startDataNext = startData\n",
    "    del(startDataNext[0])\n",
    "    \n",
    "    \n",
    "    # Big list\n",
    "    list_operons = []\n",
    "    # Small list\n",
    "    list_subNames = []\n",
    "    \n",
    "    # Big list\n",
    "    list_posiDefiFrags = []\n",
    "    # Small list\n",
    "    list_Frags = []\n",
    "\n",
    "    for subunit,startNext,end, posiFrag in itertools.izip_longest(data_operon_ids,startDataNext,endData,\n",
    "                                                                  finalPosiDefinitive):\n",
    "\n",
    "        subunitTemp = subunit.split(\" \")[0]\n",
    "\n",
    "        #print subunitTemp, start , end\n",
    "        if(startNext != None):\n",
    "\n",
    "            startNextTemp = int(startNext)\n",
    "            endTemp = int(end)\n",
    "\n",
    "            #print startNext , end\n",
    "\n",
    "            substraction = startNextTemp - endTemp\n",
    "\n",
    "            #print substraction\n",
    "\n",
    "            list_subNames.append(subunitTemp)\n",
    "            list_Frags.append(posiFrag)\n",
    "            substraction = startNextTemp - endTemp\n",
    "\n",
    "            if(substraction > 500):\n",
    "                list_operons.append(list_subNames)\n",
    "                list_posiDefiFrags.append(list_Frags)\n",
    "\n",
    "                list_subNames = []\n",
    "                list_Frags = []\n",
    "        else:\n",
    "            if(end == endData[-1]):\n",
    "                list_subNames.append(subunitTemp)\n",
    "                list_Frags.append(posiFrag)\n",
    "\n",
    "                list_operons.append(list_subNames)\n",
    "                list_posiDefiFrags.append(list_Frags)\n",
    "\n",
    "                #print startNext , end\n",
    "    \n",
    "    finalDispositionList = []\n",
    "    \n",
    "    for in_list in list_operons:\n",
    "        \n",
    "        if(len(in_list) == 3):\n",
    "            finalDisposition = in_list[0] + \"-\" + in_list[1] + \"-\" + in_list[2]\n",
    "            finalDispositionList.append(finalDisposition)\n",
    "        elif(len(in_list) == 4):\n",
    "            finalDisposition = in_list[0] + \"-\" + in_list[1] + \"-\" + in_list[2] + \"-\" + in_list[3]\n",
    "            finalDispositionList.append(finalDisposition)\n",
    "        else:\n",
    "            print \"There was a problem giving disposition of subunits\"\n",
    "\n",
    "    return finalDispositionList, list_posiDefiFrags"
   ]
  },
  {
   "cell_type": "code",
   "execution_count": 64,
   "metadata": {
    "collapsed": false
   },
   "outputs": [],
   "source": [
    "#list_operons_f2, list_posiDefiFrags_f2 = f2_getting_operon_list_with_disposition_and_frags(data_operon_ids,startData,\n",
    "#endData,finalPosiDefinitive)"
   ]
  },
  {
   "cell_type": "code",
   "execution_count": 65,
   "metadata": {
    "collapsed": false
   },
   "outputs": [],
   "source": [
    "#print list_operons_f2\n",
    "\n",
    "#print \"\\n\"\n",
    "\n",
    "#print list_posiDefiFrags_f2"
   ]
  },
  {
   "cell_type": "code",
   "execution_count": 66,
   "metadata": {
    "collapsed": true
   },
   "outputs": [],
   "source": [
    "#startData = dict_initial['CP000036'][1]\n",
    "#endData = dict_initial['CP000036'][2]\n",
    "\n",
    "#startData"
   ]
  },
  {
   "cell_type": "code",
   "execution_count": 67,
   "metadata": {
    "collapsed": false
   },
   "outputs": [
    {
     "name": "stdout",
     "output_type": "stream",
     "text": [
      "['U00096', 'CP000036']\n",
      "\n",
      "\n",
      "['U00096', 'CP000036']\n"
     ]
    }
   ],
   "source": [
    "print dict_initial.keys()\n",
    "\n",
    "print \"\\n\"\n",
    "\n",
    "print dict_positions_for_each_geno.keys()"
   ]
  },
  {
   "cell_type": "code",
   "execution_count": 69,
   "metadata": {
    "collapsed": false
   },
   "outputs": [],
   "source": [
    "#operonNumberList,final_posiFrag = f3_getting_final_posiFrag_after_mean_operation_for_each_geno(list_posiDefiFrags_f2)"
   ]
  },
  {
   "cell_type": "code",
   "execution_count": 70,
   "metadata": {
    "collapsed": false
   },
   "outputs": [],
   "source": [
    "#print operonNumberList\n",
    "\n",
    "#print \"\\n\"\n",
    "\n",
    "#print final_posiFrag"
   ]
  },
  {
   "cell_type": "markdown",
   "metadata": {},
   "source": [
    "# Using f2 for all genos"
   ]
  },
  {
   "cell_type": "code",
   "execution_count": 71,
   "metadata": {
    "collapsed": true
   },
   "outputs": [],
   "source": [
    "def using_f2_for_all_genos(dict_initial,dict_using_f1_for_all_genos):\n",
    "    \n",
    "    dict_using_f2_for_all_genos = {}\n",
    "    \n",
    "    ## Looping over dict_initial and dict_using_f1_for_all_genos\n",
    "    for key1, key2 in itertools.izip(dict_initial,dict_using_f1_for_all_genos):\n",
    "        \n",
    "        mainObject1 = dict_initial[key1]\n",
    "        mainObject2 = dict_using_f1_for_all_genos[key2]\n",
    "        \n",
    "        # Getting data for function f1 from mainObject1\n",
    "        data_operon_ids = mainObject1[0]\n",
    "\n",
    "        # Getting startData and endData from mainObject1\n",
    "        startData = mainObject1[1]\n",
    "        endData = mainObject1[2]\n",
    "        \n",
    "        # Getting finalPosiDefinitive from dict_using_f1_for_all_genos\n",
    "        finalPosiDefinitive = mainObject2\n",
    "        \n",
    "        # Using f2\n",
    "        operons_f2Temp, posiDefiFrags_f2Temp = f2_getting_operon_list_with_disposition_and_frags(data_operon_ids,\n",
    "                                                                                                  startData,\n",
    "                                                                                                  endData,\n",
    "                                                                                                  finalPosiDefinitive)\n",
    "        \n",
    "        # Getting data for f3 function\n",
    "        count_operon_namesTemp = mainObject1[5]\n",
    "        count_operon_listTemp = mainObject1[6]\n",
    "        \n",
    "        # GenoName\n",
    "        genoNameTemp = str(key1)\n",
    "        \n",
    "        # Inserting lists to dict\n",
    "        dict_using_f2_for_all_genos[key1] = (operons_f2Temp,posiDefiFrags_f2Temp,count_operon_namesTemp,\n",
    "                                                    count_operon_listTemp,genoNameTemp) \n",
    "\n",
    "        \n",
    "    return dict_using_f2_for_all_genos\n",
    "    "
   ]
  },
  {
   "cell_type": "code",
   "execution_count": 72,
   "metadata": {
    "collapsed": true
   },
   "outputs": [],
   "source": [
    "#del(dict_using_f2_and_f3_for_all_genos)"
   ]
  },
  {
   "cell_type": "code",
   "execution_count": 73,
   "metadata": {
    "collapsed": false
   },
   "outputs": [],
   "source": [
    "# using f2 over all genos\n",
    "#dict_using_f2_for_all_genos = using_f2_for_all_genos(dict_initial,dict_using_f1_for_all_genos)"
   ]
  },
  {
   "cell_type": "code",
   "execution_count": 76,
   "metadata": {
    "collapsed": false
   },
   "outputs": [
    {
     "data": {
      "text/plain": [
       "{'CP000036': (['16S-23S-5S',\n",
       "   '5S-23S-16S',\n",
       "   '5S-5S-23S-16S',\n",
       "   '16S-23S-5S',\n",
       "   '16S-23S-5S',\n",
       "   '16S-23S-5S',\n",
       "   '16S-23S-5S'],\n",
       "  [[105, 107, 107],\n",
       "   [1312, 1314, 1315],\n",
       "   [1635, 1636, 1636, 1638],\n",
       "   [1895, 1897, 1897],\n",
       "   [1945, 1945, 1946],\n",
       "   [2013, 2015, 2015],\n",
       "   [2034, 2034, 2035]],\n",
       "  ['No_def'],\n",
       "  [22],\n",
       "  'CP000036'),\n",
       " 'U00096': (['16S-23S-5S',\n",
       "   '5S-23S-16S',\n",
       "   '5S-5S-23S-16S',\n",
       "   '16S-23S-5S',\n",
       "   '16S-23S-5S',\n",
       "   '16S-23S-5S',\n",
       "   '16S-23S-5S'],\n",
       "  [[112, 114, 114],\n",
       "   [1363, 1363, 1365],\n",
       "   [1711, 1711, 1713, 1714],\n",
       "   [1971, 1973, 1973],\n",
       "   [2018, 2020, 2020],\n",
       "   [2084, 2084, 2085],\n",
       "   [2104, 2105, 2106]],\n",
       "  ['rrnH', 'rrnG', 'rrnD', 'rrnC', 'rrnA', 'rrnB', 'rrnE'],\n",
       "  [3, 3, 4, 3, 3, 3, 3],\n",
       "  'U00096')}"
      ]
     },
     "execution_count": 76,
     "metadata": {},
     "output_type": "execute_result"
    }
   ],
   "source": [
    "dict_using_f2_for_all_genos"
   ]
  },
  {
   "cell_type": "markdown",
   "metadata": {},
   "source": [
    "# Using f3 for all genos"
   ]
  },
  {
   "cell_type": "code",
   "execution_count": 77,
   "metadata": {
    "collapsed": true
   },
   "outputs": [],
   "source": [
    "def f3_final_posiFrag_mean_for_each_geno(list_posiDefiFrags_f2):\n",
    "    \n",
    "    ## getting numpy\n",
    "    import numpy as np\n",
    "    \n",
    "    ## list of definitive frag position after mean operation\n",
    "    final_posiFrag_mean_for_each_geno = []\n",
    "    operonNumberList = []\n",
    "    \n",
    "    count = 0\n",
    "    for operonSubUnit in list_posiDefiFrags_f2:\n",
    "        \n",
    "        posiFinalAfterMean = int(np.mean(operonSubUnit))\n",
    "        \n",
    "        final_posiFrag_mean_for_each_geno.append(posiFinalAfterMean)\n",
    "        \n",
    "        count += 1\n",
    "        operonNumberList.append(count)\n",
    "        \n",
    "    return operonNumberList, final_posiFrag_mean_for_each_geno"
   ]
  },
  {
   "cell_type": "code",
   "execution_count": 78,
   "metadata": {
    "collapsed": true
   },
   "outputs": [],
   "source": [
    "# Function using f3 for all genos"
   ]
  },
  {
   "cell_type": "code",
   "execution_count": 83,
   "metadata": {
    "collapsed": true
   },
   "outputs": [],
   "source": [
    "def using_f3_for_all_genos(dict_using_f2_for_all_genos):\n",
    "    \n",
    "    dict_using_f3_for_all_genos = {}\n",
    "    \n",
    "    ## Looping over dict_using_f2_for_all_genos\n",
    "    for key in dict_using_f2_for_all_genos:\n",
    "        \n",
    "        mainObject = dict_using_f2_for_all_genos[key]\n",
    "        \n",
    "        list_posiDefiFrags_f2Temp = mainObject[1]\n",
    "        \n",
    "        # using f3 over argument that is input\n",
    "        operNumberListTemp, finalPosiFrag_meanTemp = f3_final_posiFrag_mean_for_each_geno(list_posiDefiFrags_f2Temp)\n",
    "        \n",
    "        dict_using_f3_for_all_genos[key] = (operNumberListTemp,finalPosiFrag_meanTemp)\n",
    "        \n",
    "    return dict_using_f3_for_all_genos"
   ]
  },
  {
   "cell_type": "code",
   "execution_count": 84,
   "metadata": {
    "collapsed": true
   },
   "outputs": [],
   "source": [
    "#dict_using_f3_for_all_genos = using_f3_for_all_genos(dict_using_f2_for_all_genos)"
   ]
  },
  {
   "cell_type": "code",
   "execution_count": 86,
   "metadata": {
    "collapsed": false
   },
   "outputs": [
    {
     "data": {
      "text/plain": [
       "{'CP000036': ([1, 2, 3, 4, 5, 6, 7],\n",
       "  [106, 1313, 1636, 1896, 1945, 2014, 2034]),\n",
       " 'U00096': ([1, 2, 3, 4, 5, 6, 7], [113, 1363, 1712, 1972, 2019, 2084, 2105])}"
      ]
     },
     "execution_count": 86,
     "metadata": {},
     "output_type": "execute_result"
    }
   ],
   "source": [
    "dict_using_f3_for_all_genos"
   ]
  },
  {
   "cell_type": "markdown",
   "metadata": {},
   "source": [
    "# Using  f4 for all genos"
   ]
  },
  {
   "cell_type": "code",
   "execution_count": 79,
   "metadata": {
    "collapsed": false
   },
   "outputs": [],
   "source": [
    "#count_operon_names = dict_initial['CP000036'][5]\n",
    "\n",
    "#count_operon_list = dict_initial['CP000036'][6]\n",
    "\n",
    "#genoName = uniqueGenoNames[1]"
   ]
  },
  {
   "cell_type": "code",
   "execution_count": 80,
   "metadata": {
    "collapsed": false
   },
   "outputs": [],
   "source": [
    "#genoName"
   ]
  },
  {
   "cell_type": "code",
   "execution_count": 81,
   "metadata": {
    "collapsed": true
   },
   "outputs": [],
   "source": [
    "# importing pandas\n",
    "#import pandas as pd\n",
    "#from pandas import DataFrame"
   ]
  },
  {
   "cell_type": "code",
   "execution_count": 89,
   "metadata": {
    "collapsed": true
   },
   "outputs": [],
   "source": [
    "def f4_doing_data_frame_for_each_geno(operonNumberList,list_operons_f2,\n",
    "                                      final_posiFrag_f2,count_operon_names,\n",
    "                                      count_operon_list,genoName):\n",
    "    \n",
    "     # importing pandas\n",
    "    import pandas as pd\n",
    "    from pandas import DataFrame\n",
    "    \n",
    "    \n",
    "    dColumns={\n",
    "        \n",
    "        '1_OperoNumbers' : operonNumberList,\n",
    "        '2_DispositionOperons': list_operons_f2,\n",
    "        '3_Posi_Definitive_in_Image': final_posiFrag_f2\n",
    "  \n",
    "    }\n",
    "    \n",
    "    df = pd.DataFrame(dColumns)\n",
    "    \n",
    "    additionalTemp = pd.DataFrame({'4_Operon_names' : count_operon_names,\n",
    "                                   '5_NumberofSubunitsbyOperon' : count_operon_list})\n",
    "    newTemp = pd.concat([df,additionalTemp], axis=1)\n",
    "    \n",
    "    #adding geno name\n",
    "    additionalName = pd.DataFrame({'6_GenoName' : genoName},index=[0])\n",
    "    newTemp2 = pd.concat([newTemp,additionalName], axis=1)\n",
    "    \n",
    "    return newTemp2"
   ]
  },
  {
   "cell_type": "code",
   "execution_count": 87,
   "metadata": {
    "collapsed": false
   },
   "outputs": [],
   "source": [
    "#shigellaFinalDF = f4_doing_data_frame_for_each_geno(operonNumberList,list_operons_f2,\n",
    "#                                                    final_posiFrag,count_operon_names,\n",
    "#                                                   count_operon_list,genoName)"
   ]
  },
  {
   "cell_type": "code",
   "execution_count": 88,
   "metadata": {
    "collapsed": false
   },
   "outputs": [],
   "source": [
    "#shigellaFinalDF\n",
    "\n"
   ]
  },
  {
   "cell_type": "code",
   "execution_count": 92,
   "metadata": {
    "collapsed": false
   },
   "outputs": [
    {
     "data": {
      "text/plain": [
       "{'CP000036': (['16S-23S-5S',\n",
       "   '5S-23S-16S',\n",
       "   '5S-5S-23S-16S',\n",
       "   '16S-23S-5S',\n",
       "   '16S-23S-5S',\n",
       "   '16S-23S-5S',\n",
       "   '16S-23S-5S'],\n",
       "  [[105, 107, 107],\n",
       "   [1312, 1314, 1315],\n",
       "   [1635, 1636, 1636, 1638],\n",
       "   [1895, 1897, 1897],\n",
       "   [1945, 1945, 1946],\n",
       "   [2013, 2015, 2015],\n",
       "   [2034, 2034, 2035]],\n",
       "  ['No_def'],\n",
       "  [22],\n",
       "  'CP000036'),\n",
       " 'U00096': (['16S-23S-5S',\n",
       "   '5S-23S-16S',\n",
       "   '5S-5S-23S-16S',\n",
       "   '16S-23S-5S',\n",
       "   '16S-23S-5S',\n",
       "   '16S-23S-5S',\n",
       "   '16S-23S-5S'],\n",
       "  [[112, 114, 114],\n",
       "   [1363, 1363, 1365],\n",
       "   [1711, 1711, 1713, 1714],\n",
       "   [1971, 1973, 1973],\n",
       "   [2018, 2020, 2020],\n",
       "   [2084, 2084, 2085],\n",
       "   [2104, 2105, 2106]],\n",
       "  ['rrnH', 'rrnG', 'rrnD', 'rrnC', 'rrnA', 'rrnB', 'rrnE'],\n",
       "  [3, 3, 4, 3, 3, 3, 3],\n",
       "  'U00096')}"
      ]
     },
     "execution_count": 92,
     "metadata": {},
     "output_type": "execute_result"
    }
   ],
   "source": [
    "dict_using_f2_for_all_genos"
   ]
  },
  {
   "cell_type": "code",
   "execution_count": 93,
   "metadata": {
    "collapsed": false
   },
   "outputs": [
    {
     "data": {
      "text/plain": [
       "{'CP000036': ([1, 2, 3, 4, 5, 6, 7],\n",
       "  [106, 1313, 1636, 1896, 1945, 2014, 2034]),\n",
       " 'U00096': ([1, 2, 3, 4, 5, 6, 7], [113, 1363, 1712, 1972, 2019, 2084, 2105])}"
      ]
     },
     "execution_count": 93,
     "metadata": {},
     "output_type": "execute_result"
    }
   ],
   "source": [
    "dict_using_f3_for_all_genos"
   ]
  },
  {
   "cell_type": "code",
   "execution_count": null,
   "metadata": {
    "collapsed": true
   },
   "outputs": [],
   "source": [
    "#operonNumberList\n",
    "#list_operons_f2\n",
    "#final_posiFrag_f2\n",
    "#count_operon_names\n",
    "#count_operon_list\n",
    "#genoName"
   ]
  },
  {
   "cell_type": "code",
   "execution_count": 94,
   "metadata": {
    "collapsed": true
   },
   "outputs": [],
   "source": [
    "def using_f4_for_all_genos(dict_using_f2_for_all_genos,dict_using_f3_for_all_genos):\n",
    "    \n",
    "    ## Generating dicts of dataframes\n",
    "    dict_using_f4_for_all_genos = {}\n",
    "    \n",
    "    ## Looping over dict_using_f2_for_all_genos and dict_using_f3_for_all_genos\n",
    "    for key1,key2 in itertools.izip(dict_using_f2_for_all_genos,dict_using_f3_for_all_genos):\n",
    "        \n",
    "        mainObject1 = dict_using_f2_for_all_genos[key1]\n",
    "        mainObject2 = dict_using_f3_for_all_genos[key2]\n",
    "        \n",
    "        # Getting data that f4 received as input\n",
    "        operDisposition_f2 = mainObject1[0]\n",
    "        count_operon_names = mainObject1[2]\n",
    "        count_operon_list = mainObject1[3]\n",
    "        genoName = mainObject1[4]\n",
    "        \n",
    "        operonNumberList_f3 = mainObject2[0]\n",
    "        operFinalPosiAfterMean_f3 = mainObject2[1] \n",
    "        \n",
    "        dfTemp = f4_doing_data_frame_for_each_geno(operonNumberList_f3,operDisposition_f2,\n",
    "                                                  operFinalPosiAfterMean_f3,count_operon_names,\n",
    "                                                  count_operon_list,genoName)\n",
    "        \n",
    "        dict_using_f4_for_all_genos[key1] = dfTemp\n",
    "    \n",
    "    return dict_using_f4_for_all_genos"
   ]
  },
  {
   "cell_type": "code",
   "execution_count": 95,
   "metadata": {
    "collapsed": true
   },
   "outputs": [],
   "source": [
    "# testing using_f4_for_all_genos\n",
    "\n",
    "#dict_using_f4_for_all_genos = using_f4_for_all_genos(dict_using_f2_for_all_genos,dict_using_f3_for_all_genos)"
   ]
  },
  {
   "cell_type": "code",
   "execution_count": 96,
   "metadata": {
    "collapsed": false
   },
   "outputs": [
    {
     "data": {
      "text/plain": [
       "{'CP000036':    1_OperoNumbers 2_DispositionOperons  3_Posi_Definitive_in_Image  \\\n",
       " 0               1           16S-23S-5S                         106   \n",
       " 1               2           5S-23S-16S                        1313   \n",
       " 2               3        5S-5S-23S-16S                        1636   \n",
       " 3               4           16S-23S-5S                        1896   \n",
       " 4               5           16S-23S-5S                        1945   \n",
       " 5               6           16S-23S-5S                        2014   \n",
       " 6               7           16S-23S-5S                        2034   \n",
       " \n",
       "   4_Operon_names  5_NumberofSubunitsbyOperon 6_GenoName  \n",
       " 0         No_def                        22.0   CP000036  \n",
       " 1            NaN                         NaN        NaN  \n",
       " 2            NaN                         NaN        NaN  \n",
       " 3            NaN                         NaN        NaN  \n",
       " 4            NaN                         NaN        NaN  \n",
       " 5            NaN                         NaN        NaN  \n",
       " 6            NaN                         NaN        NaN  ,\n",
       " 'U00096':    1_OperoNumbers 2_DispositionOperons  3_Posi_Definitive_in_Image  \\\n",
       " 0               1           16S-23S-5S                         113   \n",
       " 1               2           5S-23S-16S                        1363   \n",
       " 2               3        5S-5S-23S-16S                        1712   \n",
       " 3               4           16S-23S-5S                        1972   \n",
       " 4               5           16S-23S-5S                        2019   \n",
       " 5               6           16S-23S-5S                        2084   \n",
       " 6               7           16S-23S-5S                        2105   \n",
       " \n",
       "   4_Operon_names  5_NumberofSubunitsbyOperon 6_GenoName  \n",
       " 0           rrnH                           3     U00096  \n",
       " 1           rrnG                           3        NaN  \n",
       " 2           rrnD                           4        NaN  \n",
       " 3           rrnC                           3        NaN  \n",
       " 4           rrnA                           3        NaN  \n",
       " 5           rrnB                           3        NaN  \n",
       " 6           rrnE                           3        NaN  }"
      ]
     },
     "execution_count": 96,
     "metadata": {},
     "output_type": "execute_result"
    }
   ],
   "source": [
    "dict_using_f4_for_all_genos"
   ]
  },
  {
   "cell_type": "markdown",
   "metadata": {},
   "source": [
    "# Using complete_list_dfs and multiple_dfs has to be used to generate excel with multiple dataframes"
   ]
  },
  {
   "cell_type": "code",
   "execution_count": 97,
   "metadata": {
    "collapsed": true
   },
   "outputs": [],
   "source": [
    "# Using complete_list_dfs to get list of dfs\n",
    "\n",
    "all_dfs_with_last_properties = complete_list_dfs(dict_using_f4_for_all_genos)"
   ]
  },
  {
   "cell_type": "code",
   "execution_count": 102,
   "metadata": {
    "collapsed": false
   },
   "outputs": [],
   "source": [
    "# Putting dataframes in excel file\n",
    "\n",
    "os.getcwd()\n",
    "\n",
    "# run function\n",
    "\n",
    "multiple_dfs(all_dfs_with_last_properties, 'Last_properties', 'LastProperties_for_all_Genos_1.xlsx', 1)\n",
    "\n",
    "\n"
   ]
  },
  {
   "cell_type": "code",
   "execution_count": null,
   "metadata": {
    "collapsed": true
   },
   "outputs": [],
   "source": []
  },
  {
   "cell_type": "code",
   "execution_count": null,
   "metadata": {
    "collapsed": true
   },
   "outputs": [],
   "source": []
  },
  {
   "cell_type": "markdown",
   "metadata": {},
   "source": [
    "# Other functions"
   ]
  },
  {
   "cell_type": "code",
   "execution_count": 70,
   "metadata": {
    "collapsed": true
   },
   "outputs": [],
   "source": [
    "def pairwise(seq):\n",
    "    a , b = tee(seq)\n",
    "    next(b)\n",
    "    return izip(a,b)"
   ]
  },
  {
   "cell_type": "code",
   "execution_count": 71,
   "metadata": {
    "collapsed": false
   },
   "outputs": [],
   "source": [
    "pairwiseStarData = pairwise(cycle(startData))"
   ]
  },
  {
   "cell_type": "code",
   "execution_count": 75,
   "metadata": {
    "collapsed": false
   },
   "outputs": [],
   "source": [
    "nextElementList = []\n",
    "\n",
    "for element, nextEle in pairwiseStarData:\n",
    "    \n",
    "    #print nextEle\n",
    "    \n",
    "    nextElementList.append(nextEle)\n",
    "    \n",
    "    if(int(nextEle) == 4071443):\n",
    "        break\n",
    "\n"
   ]
  },
  {
   "cell_type": "code",
   "execution_count": 67,
   "metadata": {
    "collapsed": false,
    "scrolled": true
   },
   "outputs": [
    {
     "data": {
      "text/plain": [
       "'\\nfor disposition, operonSubUnit in itertools.izip(list_operons,list_posiDefiFrags):\\n    \\n    print disposition, int(np.mean(operonSubUnit))\\n'"
      ]
     },
     "execution_count": 67,
     "metadata": {},
     "output_type": "execute_result"
    }
   ],
   "source": [
    "\"\"\"\n",
    "for disposition, operonSubUnit in itertools.izip(list_operons,list_posiDefiFrags):\n",
    "    \n",
    "    print disposition, int(np.mean(operonSubUnit))\n",
    "\"\"\""
   ]
  },
  {
   "cell_type": "code",
   "execution_count": 61,
   "metadata": {
    "collapsed": false
   },
   "outputs": [
    {
     "data": {
      "text/plain": [
       "'\\n\\nlist_operons = []\\nlist_subNames = []\\nlist_posiDefiFrags = []\\nlist_Frags = []\\n\\nfor subunit,startNext,end, posiFrag in itertools.izip_longest(data_operon_ids,startDataNext,endData,finalPosiDefinitive):\\n    \\n    subunitTemp = subunit.split(\" \")[0]\\n    \\n    #print subunitTemp, start , end\\n    if(startNext != None):\\n        \\n        startNextTemp = int(startNext)\\n        endTemp = int(end)\\n        \\n        print startNext , end\\n        \\n        substraction = startNextTemp - endTemp\\n        \\n        print substraction\\n\\n        list_subNames.append(subunitTemp)\\n        list_Frags.append(posiFrag)\\n        substraction = startNextTemp - endTemp\\n        \\n        if(substraction > 500):\\n            list_operons.append(list_subNames)\\n            list_posiDefiFrags.append(list_Frags)\\n            \\n            list_subNames = []\\n            list_Frags = []\\n    else:\\n        if(end == endData[-1]):\\n            list_subNames.append(subunitTemp)\\n            list_Frags.append(posiFrag)\\n            \\n            list_operons.append(list_subNames)\\n            list_posiDefiFrags.append(list_Frags)\\n            \\n            print startNext , end\\n            \\n'"
      ]
     },
     "execution_count": 61,
     "metadata": {},
     "output_type": "execute_result"
    }
   ],
   "source": [
    "\"\"\"\n",
    "\n",
    "list_operons = []\n",
    "list_subNames = []\n",
    "list_posiDefiFrags = []\n",
    "list_Frags = []\n",
    "\n",
    "for subunit,startNext,end, posiFrag in itertools.izip_longest(data_operon_ids,startDataNext,endData,finalPosiDefinitive):\n",
    "    \n",
    "    subunitTemp = subunit.split(\" \")[0]\n",
    "    \n",
    "    #print subunitTemp, start , end\n",
    "    if(startNext != None):\n",
    "        \n",
    "        startNextTemp = int(startNext)\n",
    "        endTemp = int(end)\n",
    "        \n",
    "        print startNext , end\n",
    "        \n",
    "        substraction = startNextTemp - endTemp\n",
    "        \n",
    "        print substraction\n",
    "\n",
    "        list_subNames.append(subunitTemp)\n",
    "        list_Frags.append(posiFrag)\n",
    "        substraction = startNextTemp - endTemp\n",
    "        \n",
    "        if(substraction > 500):\n",
    "            list_operons.append(list_subNames)\n",
    "            list_posiDefiFrags.append(list_Frags)\n",
    "            \n",
    "            list_subNames = []\n",
    "            list_Frags = []\n",
    "    else:\n",
    "        if(end == endData[-1]):\n",
    "            list_subNames.append(subunitTemp)\n",
    "            list_Frags.append(posiFrag)\n",
    "            \n",
    "            list_operons.append(list_subNames)\n",
    "            list_posiDefiFrags.append(list_Frags)\n",
    "            \n",
    "            print startNext , end\n",
    "            \n",
    "\"\"\""
   ]
  },
  {
   "cell_type": "code",
   "execution_count": 103,
   "metadata": {
    "collapsed": true
   },
   "outputs": [],
   "source": [
    "numberGenos = 1000000/8"
   ]
  },
  {
   "cell_type": "code",
   "execution_count": 104,
   "metadata": {
    "collapsed": false
   },
   "outputs": [
    {
     "data": {
      "text/plain": [
       "125000"
      ]
     },
     "execution_count": 104,
     "metadata": {},
     "output_type": "execute_result"
    }
   ],
   "source": [
    "numberGenos"
   ]
  },
  {
   "cell_type": "code",
   "execution_count": null,
   "metadata": {
    "collapsed": true
   },
   "outputs": [],
   "source": []
  }
 ],
 "metadata": {
  "kernelspec": {
   "display_name": "Python 2",
   "language": "python",
   "name": "python2"
  },
  "language_info": {
   "codemirror_mode": {
    "name": "ipython",
    "version": 2
   },
   "file_extension": ".py",
   "mimetype": "text/x-python",
   "name": "python",
   "nbconvert_exporter": "python",
   "pygments_lexer": "ipython2",
   "version": "2.7.11"
  }
 },
 "nbformat": 4,
 "nbformat_minor": 0
}
