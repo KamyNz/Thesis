{
 "cells": [
  {
   "cell_type": "code",
   "execution_count": 1,
   "metadata": {
    "collapsed": true
   },
   "outputs": [],
   "source": [
    "# Importing all the neede \n",
    "import os\n",
    "import itertools\n",
    "import numpy as np\n",
    "\n",
    "from Utils import *\n"
   ]
  },
  {
   "cell_type": "code",
   "execution_count": 2,
   "metadata": {
    "collapsed": false
   },
   "outputs": [
    {
     "name": "stdout",
     "output_type": "stream",
     "text": [
      "/Volumes/Mac_HDrive/GENOMES_TO_MAKE_BIGGER_STUDY/25_GENOMES/\n"
     ]
    }
   ],
   "source": [
    "# pathNameFolder\n",
    "pathNameFolder = \"/Volumes/Mac_HDrive/GENOMES_TO_MAKE_BIGGER_STUDY/25_GENOMES/\"\n",
    "\n",
    "# DEBERIA HACERSE QUE EL SCRIPT DE PYTHON PREGUNTE POR EL FOLDER DONDE ESTAN LOS GENOMAS\n",
    "print pathNameFolder"
   ]
  },
  {
   "cell_type": "code",
   "execution_count": 23,
   "metadata": {
    "collapsed": true
   },
   "outputs": [],
   "source": [
    "def Processing_files_from_folder(path,nGeno):\n",
    "    \n",
    "    # como no se sabe el numero de genomas a ingresar\n",
    "    i=0\n",
    "    \n",
    "    for(files) in os.walk(path):\n",
    "        ## printing files to see \n",
    "        list_files = files\n",
    "        i+=1\n",
    "        \n",
    "        if(i >= nGeno):\n",
    "            print \"Ya proceso todos los genomas\\n\"\n",
    "            break\n",
    "            \n",
    "    list_genomes_names = list_files[2] \n",
    "    \n",
    "    for geno in list_genomes_names:\n",
    "        \n",
    "        if(geno.startswith('._')):\n",
    "            list_genomes_names.remove(geno)\n",
    "\n",
    "    return(list_genomes_names)"
   ]
  },
  {
   "cell_type": "code",
   "execution_count": 24,
   "metadata": {
    "collapsed": false
   },
   "outputs": [],
   "source": [
    "genosListaPath = Processing_files_from_folder(pathNameFolder,25)"
   ]
  },
  {
   "cell_type": "code",
   "execution_count": 27,
   "metadata": {
    "collapsed": true
   },
   "outputs": [],
   "source": [
    "index_to_remove = genosListaPath.index('._Trichodesmium_erythraeum_IMS101_CROMO_1.fasta')\n",
    "#del(genosListaPath[index_to_remove])"
   ]
  },
  {
   "cell_type": "code",
   "execution_count": 28,
   "metadata": {
    "collapsed": false
   },
   "outputs": [
    {
     "name": "stdout",
     "output_type": "stream",
     "text": [
      "['Haloferax mediterranei ATCC 33500_CROMO_1.fasta', 'Nitrososphaera_viennensis_EN76_CROMO_1.fasta', 'Sulfolobus solfataricus P2_CROMO_1.fasta', 'Bacillus_cereus_ATCC_14579_CROMO_1.fasta', 'Bifidobacterium_animalis_subsp._lactis_AD011_CROMO_1.fasta', 'Caldisericum_exile_AZM16c01_DNA_CROMO_1.fasta', 'Chloroherpeton_thalassium_ATCC_35110_CROMO_1.fasta', 'Deinococcus_peraridilitoris_DSM_19664_CROMO_1.fasta', 'Desulfurispirillum_indicum_S5_CROMO_1.fasta', 'Dictyoglomus_thermophilum_H-6-12_CROMO_1.fasta', 'Elusimicrobium_minutum_Pei191_CROMO_1.fasta', 'Fibrobacter_succinogenes_subsp._succinogenes_S85_CROMO_1.fasta', 'Fimbriimonas_ginsengisoli_Gsoil_348_CROMO_1.fasta', 'Gemmatimonas_aurantiaca_T-27_DNA_CROMO_1.fasta', 'Herpetosiphon_aurantiacus_DSM_785_CROMO_1.fasta', 'Leptospira_interrogans_serovar_Lai_str._56601_CROMO_1.fasta', 'Mesotoga_prima_MesG1_Ag_4_2_CROMO_1.fasta', 'Nitrospira_moscoviensis_strain_NSP_M-1_CROMO_1.fasta', 'Persephonella_marina_EX-H1_CROMO_1.fasta', 'Trichodesmium_erythraeum_IMS101_CROMO_1.fasta', 'Porphyromonadaceae_bacterium_ING2-E5B_CROMO_1.fasta', 'Sebaldella_termitidis_ATCC_33386_CROMO_1.fasta', 'Singulisphaera_acidiphila_DSM_18658_CROMO_1.fasta', 'Thermodesulfatator_indicus_DSM_15286_CROMO_1.fasta', 'Verrucomicrobium_spinosum_DSM_4136_chromosome_CROMO_1.fasta']\n"
     ]
    }
   ],
   "source": [
    "print genosListaPath"
   ]
  },
  {
   "cell_type": "markdown",
   "metadata": {},
   "source": [
    "# Getting list_of_window_size_AND_overlappin"
   ]
  },
  {
   "cell_type": "code",
   "execution_count": 29,
   "metadata": {
    "collapsed": false
   },
   "outputs": [],
   "source": [
    "# Making function to decide what are the parameters\n",
    "# To cut and overlapping\n",
    "\n",
    "def making_list_of_window_size_AND_overlapping(begin, end, jump):\n",
    "\n",
    "    # Note: I have to search if jump has to be integer\n",
    "    listaNumbersEnteros = list(range(begin, end, jump))\n",
    "\n",
    "    listaNumbersEnterosBig = []\n",
    "    listOverlapsGenos = []\n",
    "\n",
    "    for n in listaNumbersEnteros:\n",
    "\n",
    "        entero = (n*1000)\n",
    "        over = ((entero)/2)\n",
    "        listaNumbersEnterosBig.append(entero)\n",
    "        listOverlapsGenos.append(over)\n",
    "    \n",
    "    return(listaNumbersEnterosBig,listOverlapsGenos)"
   ]
  },
  {
   "cell_type": "code",
   "execution_count": 30,
   "metadata": {
    "collapsed": false
   },
   "outputs": [],
   "source": [
    "listaNumbersEnteros, listOverlapsGenos = making_list_of_window_size_AND_overlapping(4,17,1)"
   ]
  },
  {
   "cell_type": "code",
   "execution_count": 31,
   "metadata": {
    "collapsed": false
   },
   "outputs": [
    {
     "name": "stdout",
     "output_type": "stream",
     "text": [
      "[4000, 5000, 6000, 7000, 8000, 9000, 10000, 11000, 12000, 13000, 14000, 15000, 16000]\n",
      "[2000, 2500, 3000, 3500, 4000, 4500, 5000, 5500, 6000, 6500, 7000, 7500, 8000]\n"
     ]
    }
   ],
   "source": [
    "print listaNumbersEnteros\n",
    "\n",
    "print listOverlapsGenos"
   ]
  },
  {
   "cell_type": "code",
   "execution_count": 37,
   "metadata": {
    "collapsed": false
   },
   "outputs": [
    {
     "name": "stdout",
     "output_type": "stream",
     "text": [
      "/Users/CamilaMV/Desktop/TESIS/Python_Notebooks\n"
     ]
    }
   ],
   "source": [
    "# Haciendo lista de extensiones\n",
    "#list_exts=['.fna8Kmer..split'] *6\n",
    "\n",
    "# Se podrian hacer la listas de extensiones rapidas\n",
    "#list_exts\n",
    "\n",
    "print os.getcwd()"
   ]
  },
  {
   "cell_type": "markdown",
   "metadata": {},
   "source": [
    "# PART 1"
   ]
  },
  {
   "cell_type": "markdown",
   "metadata": {},
   "source": [
    "## Splitting genomes with overlaping using pyfasta"
   ]
  },
  {
   "cell_type": "code",
   "execution_count": 38,
   "metadata": {
    "collapsed": true
   },
   "outputs": [],
   "source": [
    "\n",
    "def splitting_genos_according_to_input_data(genosListaPath,listaNumbersEnteros,listOverlapsGenos,pathNameFolder):\n",
    "    \n",
    "    # Changing directory\n",
    "    os.chdir(pathNameFolder)\n",
    "    \n",
    "    # Splitting genomes and making directories\n",
    "    for geno in genosListaPath:\n",
    "        \n",
    "        for f, o in itertools.izip(listaNumbersEnteros,listOverlapsGenos):\n",
    "            \n",
    "            cmd = 'pyfasta split -n 1 -k '+ str(f) +' -o ' + str(o) + ' ' + geno\n",
    "            os.system(cmd)\n",
    "\n",
    "            # Making directories\n",
    "    \n",
    "            genoFragName = str(f)\n",
    "            genoOverLapName = str(o)\n",
    "        \n",
    "            os.system(\"mkdir Genos_\"+genoFragName+\"_\"+genoOverLapName+\"/\")\n",
    "            "
   ]
  },
  {
   "cell_type": "code",
   "execution_count": 39,
   "metadata": {
    "collapsed": false
   },
   "outputs": [],
   "source": [
    "# testing splitting_genos_according_to_input_data\n",
    "\n",
    "splitting_genos_according_to_input_data(genosListaPath,listaNumbersEnteros,listOverlapsGenos,pathNameFolder)\n"
   ]
  },
  {
   "cell_type": "code",
   "execution_count": 59,
   "metadata": {
    "collapsed": false
   },
   "outputs": [],
   "source": [
    "# Making preinitial list of splits\n",
    "lista_preinitial_splits = [\n",
    "'.split.10Kmer.5Koverlap.fasta',\n",
    "'.split.11Kmer.5500overlap.fasta',\n",
    "'.split.12Kmer.6Koverlap.fasta',\n",
    "'.split.13Kmer.6500overlap.fasta',\n",
    "'.split.14Kmer.7Koverlap.fasta',\n",
    "'.split.15Kmer.7500overlap.fasta',\n",
    "'.split.16Kmer.8Koverlap.fasta',\n",
    "'.split.4Kmer.2Koverlap.fasta',\n",
    "'.5Kmer.2500overlap.fasta',\n",
    "'.split.6Kmer.3Koverlap.fasta',\n",
    "'.split.7Kmer.3500overlap.fasta',\n",
    "'.split.8Kmer.4Koverlap.fasta',\n",
    "'.split.9Kmer.4500overlap.fasta'\n",
    "]"
   ]
  },
  {
   "cell_type": "code",
   "execution_count": 49,
   "metadata": {
    "collapsed": false
   },
   "outputs": [],
   "source": [
    "#list_exts"
   ]
  },
  {
   "cell_type": "code",
   "execution_count": 54,
   "metadata": {
    "collapsed": false
   },
   "outputs": [
    {
     "name": "stdout",
     "output_type": "stream",
     "text": [
      "/Volumes/Mac_HDrive/GENOMES_TO_MAKE_BIGGER_STUDY/25_GENOMES\n"
     ]
    }
   ],
   "source": [
    "print os.getcwd()"
   ]
  },
  {
   "cell_type": "markdown",
   "metadata": {},
   "source": [
    "## Function for moving files after splitting with overlaping"
   ]
  },
  {
   "cell_type": "code",
   "execution_count": 61,
   "metadata": {
    "collapsed": true
   },
   "outputs": [],
   "source": [
    "def moving_splited_files_with_overlapping_to_folder(list_exts,listaNumbersEnterosBig,listOverlapsGenos):\n",
    "    \n",
    "    \n",
    "    # Moving             \n",
    "    for ext, f,o in itertools.izip(list_exts,listaNumbersEnterosBig,listOverlapsGenos):\n",
    "\n",
    "        genoFragName = str(f)\n",
    "        genoOverLapName = str(o)\n",
    "        \n",
    "        # Moving files\n",
    "        os.system(\"mv \"+ \"*\" + ext +\" Genos_\"+genoFragName+\"_\"+genoOverLapName+\"/\")\n",
    "\n",
    "    # Telling user where the splited genos are\n",
    "    \n",
    "    print str(len(list_exts)) + \" genomes were moved and are located in: \" + os.getcwd() + \"\\n\"    \n",
    "    \n",
    "    print \"For the following extensions: \" + ','.join(list_exts)"
   ]
  },
  {
   "cell_type": "code",
   "execution_count": 62,
   "metadata": {
    "collapsed": false
   },
   "outputs": [],
   "source": [
    "#moving_splited_files_with_overlapping_to_folder(list_exts3,listaNumbersEnteros,listOverlapsGenos)"
   ]
  },
  {
   "cell_type": "markdown",
   "metadata": {},
   "source": [
    "# PART 2"
   ]
  },
  {
   "cell_type": "code",
   "execution_count": null,
   "metadata": {
    "collapsed": true
   },
   "outputs": [],
   "source": []
  },
  {
   "cell_type": "code",
   "execution_count": null,
   "metadata": {
    "collapsed": true
   },
   "outputs": [],
   "source": []
  },
  {
   "cell_type": "code",
   "execution_count": null,
   "metadata": {
    "collapsed": true
   },
   "outputs": [],
   "source": []
  },
  {
   "cell_type": "code",
   "execution_count": null,
   "metadata": {
    "collapsed": true
   },
   "outputs": [],
   "source": [
    "# In[25]:\n",
    "\n",
    "# Haciendo fragmentacion sin sobrelapamiento\n",
    "\n",
    "for g in genosListaPath:\n",
    "    \n",
    "    geno = g\n",
    "    \n",
    "    for f in listaFragmentation:\n",
    "\n",
    "            cmd = 'pyfasta split -n 1 -k '+ str(f) + ' ' + g\n",
    "            os.system(cmd)\n",
    "\n",
    "            #print f, o\n",
    "    \n",
    "            genoFragName = str(f)\n",
    "            #genoOverLapName = str(o)\n",
    "        \n",
    "            os.system(\"mkdir Genos_\"+genoFragName+\"/\")\n",
    "    \n",
    "for ext, f in itertools.izip(list_exts,listaFragmentation):\n",
    "    \n",
    "    #print ext, f ,o\n",
    "    \n",
    "    genoFragName = str(f)\n",
    "    #genoOverLapName = str(o)\n",
    "        \n",
    "    os.system(\"mv \"+ \"*\" + ext +\" Genos_\"+genoFragName+\"/\")"
   ]
  }
 ],
 "metadata": {
  "kernelspec": {
   "display_name": "Python 2",
   "language": "python",
   "name": "python2"
  },
  "language_info": {
   "codemirror_mode": {
    "name": "ipython",
    "version": 2
   },
   "file_extension": ".py",
   "mimetype": "text/x-python",
   "name": "python",
   "nbconvert_exporter": "python",
   "pygments_lexer": "ipython2",
   "version": "2.7.11"
  }
 },
 "nbformat": 4,
 "nbformat_minor": 0
}
