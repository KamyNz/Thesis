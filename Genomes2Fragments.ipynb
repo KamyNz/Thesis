{
 "cells": [
  {
   "cell_type": "code",
   "execution_count": 1,
   "metadata": {
    "collapsed": true
   },
   "outputs": [],
   "source": [
    "# Importing all the neede \n",
    "import os\n",
    "import optparse\n",
    "import itertools\n",
    "import numpy as np\n"
   ]
  },
  {
   "cell_type": "code",
   "execution_count": 10,
   "metadata": {
    "collapsed": false
   },
   "outputs": [
    {
     "name": "stdout",
     "output_type": "stream",
     "text": [
      "/Users/CamilaMV/Desktop/GENOS/\n"
     ]
    }
   ],
   "source": [
    "# pathNameFolder\n",
    "pathNameFolder = \"/Users/CamilaMV/Desktop/GENOS/\"\n",
    "\n",
    "# DEBERIA HACERSE QUE EL SCRIPT DE PYTHON PREGUNTE POR EL FOLDER DONDE ESTAN LOS GENOMAS\n",
    "print pathNameFolder"
   ]
  },
  {
   "cell_type": "code",
   "execution_count": 8,
   "metadata": {
    "collapsed": false
   },
   "outputs": [],
   "source": [
    "# Funcion 1\n",
    "\n",
    "## Function to process files within the same folder where all genomes are\n",
    "def Processing_files_fron_folder(path,nGeno):\n",
    "    \n",
    "    # como no se sabe el numero de genomas a ingresar\n",
    "    i=0\n",
    "    \n",
    "    for(files) in os.walk(path):\n",
    "        ## printing files to see \n",
    "        list_files = files\n",
    "        i+=1\n",
    "        \n",
    "        if(i >= nGeno):\n",
    "            print \"Ya proceso todos los genomas\\n\"\n",
    "            break\n",
    "    \n",
    "    list_genomes_names = list_files[2] \n",
    "    \n",
    "    return(list_genomes_names)\n",
    "\n",
    "\n",
    "########################\n",
    "## Using function 1\n",
    "########################\n",
    "\n",
    "#genosListaPath = Processing_files_fron_folder(pathNameFolder,6)\n",
    "\n",
    "#genosListaPath"
   ]
  },
  {
   "cell_type": "code",
   "execution_count": 12,
   "metadata": {
    "collapsed": false
   },
   "outputs": [
    {
     "name": "stdout",
     "output_type": "stream",
     "text": [
      "[4000, 5000, 6000, 7000, 8000, 9000, 10000, 11000, 12000, 13000, 14000, 15000, 16000]\n",
      "[2000, 2500, 3000, 3500, 4000, 4500, 5000, 5500, 6000, 6500, 7000, 7500, 8000]\n"
     ]
    },
    {
     "data": {
      "text/plain": [
       "['.fna8Kmer..split',\n",
       " '.fna8Kmer..split',\n",
       " '.fna8Kmer..split',\n",
       " '.fna8Kmer..split',\n",
       " '.fna8Kmer..split',\n",
       " '.fna8Kmer..split']"
      ]
     },
     "execution_count": 12,
     "metadata": {},
     "output_type": "execute_result"
    }
   ],
   "source": [
    "\n",
    "listaNumbersEnteros = list(range(4, 17, 1))\n",
    "\n",
    "listaNumbersEnterosBig = []\n",
    "\n",
    "for n in listaNumbersEnteros:\n",
    "    \n",
    "    entero = (n*1000)\n",
    "    #print \"Numero de fragmentos: \", (n*1000) , \"con \", n, \"K\"\n",
    "    listaNumbersEnterosBig.append(entero)\n",
    "\n",
    "#print \"\\n\"\n",
    "\n",
    "listOverlapsEcoli = []\n",
    "for n in listaNumbersEnteros:\n",
    "    \n",
    "    over = ((n*1000)/2)\n",
    "    #print \"Numero de sobrelape \", over , \"con \", n, \"K\"\n",
    "    \n",
    "    listOverlapsEcoli.append(over)\n",
    "    \n",
    "#print \"\\n\"\n",
    "print listaNumbersEnterosBig    \n",
    "print listOverlapsEcoli\n",
    "\n",
    "\n",
    "# In[9]:\n",
    "\n",
    "listaFragmentation = [8000] * 6\n",
    "\n",
    "# # Cambiando de directorio\n",
    "\n",
    "#os.getcwd()\n",
    "\n",
    "#os.chdir(pathNameFolder)\n",
    "\n",
    "#os.getcwd()\n",
    "\n",
    "\n",
    "# # Haciendo lista de extensiones\n",
    "\n",
    "# In[24]:\n",
    "\n",
    "list_exts=['.fna8Kmer..split'] *6\n",
    "\n",
    "# Se podrian hacer la listas de extensiones rapidas\n",
    "\n",
    "list_exts\n",
    "\n",
    "\n",
    "# In[49]:\n"
   ]
  },
  {
   "cell_type": "markdown",
   "metadata": {},
   "source": [
    "# Using Pyfasta"
   ]
  },
  {
   "cell_type": "code",
   "execution_count": null,
   "metadata": {
    "collapsed": true
   },
   "outputs": [],
   "source": [
    "# Este se debe hacer funcion\n",
    "\n",
    "# Haciendo fragmentacion con sobrelapamiento\n",
    "\n",
    "for g in genosListaPath:\n",
    "    \n",
    "    for f,o in  itertools.izip(listaNumbersEnterosBig,listOverlapsEcoli):\n",
    "\n",
    "            cmd = 'pyfasta split -n 1 -k '+ str(f) +' -o ' + str(o) + ' ' + g\n",
    "            os.system(cmd)\n",
    "\n",
    "            #print f, o\n",
    "    \n",
    "            genoFragName = str(f)\n",
    "            genoOverLapName = str(o)\n",
    "        \n",
    "            os.system(\"mkdir Genos_\"+genoFragName+\"_\"+genoOverLapName+\"/\")\n",
    "\n",
    "# Making directories            \n",
    "for ext, f,o in itertools.izip(list_exts,listaNumbersEnterosBig,listOverlapsEcoli):\n",
    "    \n",
    "    #print ext, f ,o\n",
    "    \n",
    "    genoFragName = str(f)\n",
    "    genoOverLapName = str(o)\n",
    "        \n",
    "    os.system(\"mv \"+ \"*\" + ext +\" Genos_\"+genoFragName+\"_\"+genoOverLapName+\"/\")\n",
    "\n",
    "# Checking the address where there are\n",
    "os.getcwd()\n",
    "\n",
    "#del(genosListaPath[0])\n",
    "genosListaPath\n",
    "\n"
   ]
  },
  {
   "cell_type": "code",
   "execution_count": null,
   "metadata": {
    "collapsed": true
   },
   "outputs": [],
   "source": [
    "# In[25]:\n",
    "\n",
    "# Haciendo fragmentacion sin sobrelapamiento\n",
    "\n",
    "for g in genosListaPath:\n",
    "    \n",
    "    geno = g\n",
    "    \n",
    "    for f in listaFragmentation:\n",
    "\n",
    "            cmd = 'pyfasta split -n 1 -k '+ str(f) + ' ' + g\n",
    "            os.system(cmd)\n",
    "\n",
    "            #print f, o\n",
    "    \n",
    "            genoFragName = str(f)\n",
    "            #genoOverLapName = str(o)\n",
    "        \n",
    "            os.system(\"mkdir Genos_\"+genoFragName+\"/\")\n",
    "    \n",
    "for ext, f in itertools.izip(list_exts,listaFragmentation):\n",
    "    \n",
    "    #print ext, f ,o\n",
    "    \n",
    "    genoFragName = str(f)\n",
    "    #genoOverLapName = str(o)\n",
    "        \n",
    "    os.system(\"mv \"+ \"*\" + ext +\" Genos_\"+genoFragName+\"/\")"
   ]
  }
 ],
 "metadata": {
  "kernelspec": {
   "display_name": "Python 2",
   "language": "python",
   "name": "python2"
  },
  "language_info": {
   "codemirror_mode": {
    "name": "ipython",
    "version": 2
   },
   "file_extension": ".py",
   "mimetype": "text/x-python",
   "name": "python",
   "nbconvert_exporter": "python",
   "pygments_lexer": "ipython2",
   "version": "2.7.11"
  }
 },
 "nbformat": 4,
 "nbformat_minor": 0
}
